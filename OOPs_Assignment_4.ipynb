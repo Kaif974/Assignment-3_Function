{
  "nbformat": 4,
  "nbformat_minor": 0,
  "metadata": {
    "colab": {
      "provenance": [],
      "authorship_tag": "ABX9TyOmUfg3L/Oc4igcj+XrlnPx",
      "include_colab_link": true
    },
    "kernelspec": {
      "name": "python3",
      "display_name": "Python 3"
    },
    "language_info": {
      "name": "python"
    }
  },
  "cells": [
    {
      "cell_type": "markdown",
      "metadata": {
        "id": "view-in-github",
        "colab_type": "text"
      },
      "source": [
        "<a href=\"https://colab.research.google.com/github/Kaif974/Assignment-3_Function/blob/main/OOPs_Assignment_4.ipynb\" target=\"_parent\"><img src=\"https://colab.research.google.com/assets/colab-badge.svg\" alt=\"Open In Colab\"/></a>"
      ]
    },
    {
      "cell_type": "markdown",
      "source": [
        "Q2. Write a Python class for a `Car` with attributes for `make`, `model`, and `year`. Include a method to display the car's information.\n",
        "\n",
        "\n"
      ],
      "metadata": {
        "id": "XTs4bdvWHrST"
      }
    },
    {
      "cell_type": "code",
      "source": [
        "class Car:\n",
        "    def __init__(self, make, model, year):\n",
        "        self.make = make\n",
        "        self.model = model\n",
        "        self.year = year\n",
        "\n",
        "    def display_info(self):\n",
        "        print(f\"Car Information: {self.year} {self.make} {self.model}\")\n",
        "\n",
        "# Example usage:\n",
        "my_car = Car(\"hundayi\", \"creata\", 2023)\n",
        "my_car.display_info()\n"
      ],
      "metadata": {
        "colab": {
          "base_uri": "https://localhost:8080/"
        },
        "id": "CxVdTIbHHvhk",
        "outputId": "a6291188-564d-460f-eeaa-b8376be84608"
      },
      "execution_count": null,
      "outputs": [
        {
          "output_type": "stream",
          "name": "stdout",
          "text": [
            "Car Information: 2023 hundayi creata\n"
          ]
        }
      ]
    },
    {
      "cell_type": "markdown",
      "source": [
        " Q3.Explain the difference between instance methods and class methods. Provide an example of each.\n",
        "\n",
        "\n"
      ],
      "metadata": {
        "id": "p713Tr-ZJ2MK"
      }
    },
    {
      "cell_type": "code",
      "source": [
        "#EXP\n",
        "class Example:\n",
        "    class_variable = \"I am a class variable\"\n",
        "\n",
        "    def __init__(self, value):\n",
        "        self.instance_variable = value\n",
        "\n",
        "    def instance_method(self):\n",
        "        return f\"Instance variable: {self.instance_variable}\"\n",
        "\n",
        "    @classmethod\n",
        "    def class_method(cls):\n",
        "        return f\"Class variable: {cls.class_variable}\"\n",
        "obj = Example(\"I am an instance variable\")\n",
        "print(obj.instance_method())\n",
        "print(Example.class_method())\n"
      ],
      "metadata": {
        "colab": {
          "base_uri": "https://localhost:8080/"
        },
        "id": "uMtNu9IJLtv0",
        "outputId": "66a40d78-4f33-48ae-e9bf-7f2db1fe284f"
      },
      "execution_count": null,
      "outputs": [
        {
          "output_type": "stream",
          "name": "stdout",
          "text": [
            "Instance variable: I am an instance variable\n",
            "Class variable: I am a class variable\n"
          ]
        }
      ]
    },
    {
      "cell_type": "markdown",
      "source": [
        "Q4.How does Python implement method overloading? Give an example.\n",
        "\n"
      ],
      "metadata": {
        "id": "qhsEMHwEM7Jv"
      }
    },
    {
      "cell_type": "code",
      "source": [
        "#EXP default pairameter\n",
        "class Example:\n",
        "    def display(self, value=None):\n",
        "        if value is None:\n",
        "            print(\"No value provided\")\n",
        "        else:\n",
        "            print(f\"Value: {value}\")\n",
        "\n",
        "obj = Example()\n",
        "obj.display()\n",
        "obj.display(10)\n"
      ],
      "metadata": {
        "colab": {
          "base_uri": "https://localhost:8080/"
        },
        "id": "3990wLJBM8jw",
        "outputId": "01cbddbc-e380-4f02-85e7-d34079977177"
      },
      "execution_count": null,
      "outputs": [
        {
          "output_type": "stream",
          "name": "stdout",
          "text": [
            "No value provided\n",
            "Value: 10\n"
          ]
        }
      ]
    },
    {
      "cell_type": "code",
      "source": [
        "#Variable-Length Arguments:\n",
        "class Example:\n",
        "    def display(self, *args):\n",
        "        for arg in args:\n",
        "            print(f\"Value: {arg}\")\n",
        "\n",
        "obj = Example()\n",
        "obj.display(1, 2, 3)\n"
      ],
      "metadata": {
        "colab": {
          "base_uri": "https://localhost:8080/"
        },
        "id": "VepzrsqSNTgH",
        "outputId": "ceec25ac-830c-4b01-ec3e-d0adaf189eaa"
      },
      "execution_count": null,
      "outputs": [
        {
          "output_type": "stream",
          "name": "stdout",
          "text": [
            "Value: 1\n",
            "Value: 2\n",
            "Value: 3\n"
          ]
        }
      ]
    },
    {
      "cell_type": "code",
      "source": [
        "#Type Checking:\n",
        "class Example:\n",
        "    def display(self, value):\n",
        "        if isinstance(value, int):\n",
        "            print(f\"Integer: {value}\")\n",
        "        elif isinstance(value, str):\n",
        "            print(f\"String: {value}\")\n",
        "        else:\n",
        "            print(\"Unsupported type\")\n",
        "\n",
        "obj = Example()\n",
        "obj.display(10)\n",
        "obj.display(\"Hello\")"
      ],
      "metadata": {
        "colab": {
          "base_uri": "https://localhost:8080/"
        },
        "id": "4SwEFlooNZkU",
        "outputId": "ab78db74-21b0-4ae5-a454-5477edf0a120"
      },
      "execution_count": null,
      "outputs": [
        {
          "output_type": "stream",
          "name": "stdout",
          "text": [
            "Integer: 10\n",
            "String: Hello\n"
          ]
        }
      ]
    },
    {
      "cell_type": "markdown",
      "source": [
        "Q5.What are the three types of access modifiers in Python? How are they denoted?\n",
        "\n",
        "\n"
      ],
      "metadata": {
        "id": "wbnPk6K1OyMa"
      }
    },
    {
      "cell_type": "code",
      "source": [
        "#Public\n",
        "class Example:\n",
        "    def __init__(self):\n",
        "        self.public_attribute = \"I am public\"\n",
        "\n",
        "obj = Example()\n",
        "print(obj.public_attribute)\n"
      ],
      "metadata": {
        "colab": {
          "base_uri": "https://localhost:8080/"
        },
        "id": "f44OgvynO3eV",
        "outputId": "8245fddf-f39d-46bc-9590-6e9686ba3a2d"
      },
      "execution_count": null,
      "outputs": [
        {
          "output_type": "stream",
          "name": "stdout",
          "text": [
            "I am public\n"
          ]
        }
      ]
    },
    {
      "cell_type": "code",
      "source": [
        "#protected\n",
        "class Example:\n",
        "    def __init__(self):\n",
        "        self._protected_attribute = \"I am protected\"\n",
        "\n",
        "class SubExample(Example):\n",
        "    def show(self):\n",
        "        return self._protected_attribute\n",
        "\n",
        "obj = SubExample()\n",
        "print(obj.show())\n"
      ],
      "metadata": {
        "colab": {
          "base_uri": "https://localhost:8080/"
        },
        "id": "tVcc-DfnPD_k",
        "outputId": "a14c590a-145d-4ba4-9172-8c9766dee19e"
      },
      "execution_count": null,
      "outputs": [
        {
          "output_type": "stream",
          "name": "stdout",
          "text": [
            "I am protected\n"
          ]
        }
      ]
    },
    {
      "cell_type": "code",
      "source": [
        "#private\n",
        "class Example:\n",
        "    def __init__(self):\n",
        "        self.__private_attribute = \"I am private\"\n",
        "\n",
        "    def get_private(self):\n",
        "        return self.__private_attribute\n",
        "\n",
        "obj = Example()\n",
        "print(obj.get_private())\n"
      ],
      "metadata": {
        "colab": {
          "base_uri": "https://localhost:8080/"
        },
        "id": "f1XboJxwPNG0",
        "outputId": "45236d88-04a1-4392-a41f-739c2851ee47"
      },
      "execution_count": null,
      "outputs": [
        {
          "output_type": "stream",
          "name": "stdout",
          "text": [
            "I am private\n"
          ]
        }
      ]
    },
    {
      "cell_type": "markdown",
      "source": [
        "Q6.Describe the five type of inheritance in python. provide the simple example for multiple inheritance."
      ],
      "metadata": {
        "id": "ps8JRMuROaWG"
      }
    },
    {
      "cell_type": "code",
      "source": [
        "#Exp  multiple inheritance.\n",
        "class Grandparent:\n",
        "    def greet(self):\n",
        "        return \"Hello from Grandparent.\"\n",
        "\n",
        "class Parent(Grandparent):\n",
        "    def greet(self):\n",
        "        return \"Hello from Parent.\"\n",
        "\n",
        "class Child(Parent):\n",
        "    def greet(self):\n",
        "        return \"Hello from Child.\"\n",
        "\n",
        "c = Child()\n",
        "print(c.greet())"
      ],
      "metadata": {
        "colab": {
          "base_uri": "https://localhost:8080/"
        },
        "id": "Fg4GH3x8RT6t",
        "outputId": "efa60e78-9bb0-473e-d03e-2cabd23c5e9c"
      },
      "execution_count": 1,
      "outputs": [
        {
          "output_type": "stream",
          "name": "stdout",
          "text": [
            "Hello from Child.\n"
          ]
        }
      ]
    },
    {
      "cell_type": "markdown",
      "source": [
        "Q7.What is Method Resolution order (MRO) in Python? how can you retrieve in Programmatically?"
      ],
      "metadata": {
        "id": "ubJMgSDCZCIU"
      }
    },
    {
      "cell_type": "code",
      "source": [
        "class A:\n",
        "    pass\n",
        "\n",
        "class B(A):\n",
        "    pass\n",
        "\n",
        "class C(A):\n",
        "    pass\n",
        "\n",
        "class D(B, C):\n",
        "    pass\n"
      ],
      "metadata": {
        "id": "ZtJ3cOqBcQGd"
      },
      "execution_count": 2,
      "outputs": []
    },
    {
      "cell_type": "code",
      "source": [
        "print(D.__mro__)\n"
      ],
      "metadata": {
        "colab": {
          "base_uri": "https://localhost:8080/"
        },
        "id": "JgfTrR5daORs",
        "outputId": "ba7692c4-d9b2-4365-d5ff-f0bbe2683b51"
      },
      "execution_count": 3,
      "outputs": [
        {
          "output_type": "stream",
          "name": "stdout",
          "text": [
            "(<class '__main__.D'>, <class '__main__.B'>, <class '__main__.C'>, <class '__main__.A'>, <class 'object'>)\n"
          ]
        }
      ]
    },
    {
      "cell_type": "code",
      "source": [
        "print(D.mro())"
      ],
      "metadata": {
        "colab": {
          "base_uri": "https://localhost:8080/"
        },
        "id": "-ZYkh2yeYtS8",
        "outputId": "ee95ef33-2219-4288-d6db-9cee42970998"
      },
      "execution_count": 4,
      "outputs": [
        {
          "output_type": "stream",
          "name": "stdout",
          "text": [
            "[<class '__main__.D'>, <class '__main__.B'>, <class '__main__.C'>, <class '__main__.A'>, <class 'object'>]\n"
          ]
        }
      ]
    },
    {
      "cell_type": "markdown",
      "source": [
        "Q8.Create an abstract base class 'Shape' with an abstract method 'area()'. Then create tho Subclasses 'Circle' and 'Rectangle' that implement the 'area()'Method."
      ],
      "metadata": {
        "id": "0I4CglCDd0vR"
      }
    },
    {
      "cell_type": "code",
      "source": [
        "from abc import ABC, abstractmethod\n",
        "import math\n",
        "\n",
        "# Abstract Base Class\n",
        "class Shape(ABC):\n",
        "    @abstractmethod\n",
        "    def area(self):\n",
        "        pass\n",
        "\n",
        "# Subclass for Circle\n",
        "class Circle(Shape):\n",
        "    def __init__(self, radius):\n",
        "        self.radius = radius\n",
        "\n",
        "    def area(self):\n",
        "        return math.pi * (self.radius ** 2)\n",
        "\n",
        "# Subclass for Rectangle\n",
        "class Rectangle(Shape):\n",
        "    def __init__(self, width, height):\n",
        "        self.width = width\n",
        "        self.height = height\n",
        "\n",
        "    def area(self):\n",
        "        return self.width * self.height\n",
        "\n",
        "# Example usage\n",
        "circle = Circle(5)\n",
        "rectangle = Rectangle(4, 6)\n",
        "\n",
        "print(f\"Area of Circle: {circle.area():.2f}\")\n",
        "print(f\"Area of Rectangle: {rectangle.area()}\")"
      ],
      "metadata": {
        "colab": {
          "base_uri": "https://localhost:8080/"
        },
        "id": "SLcwPBBne6kS",
        "outputId": "b5cc8329-500e-4389-ed09-187c9ecba063"
      },
      "execution_count": 5,
      "outputs": [
        {
          "output_type": "stream",
          "name": "stdout",
          "text": [
            "Area of Circle: 78.54\n",
            "Area of Rectangle: 24\n"
          ]
        }
      ]
    },
    {
      "cell_type": "markdown",
      "source": [
        "Q9.Demonstrate polymorphism by creating a function that can work with different shape objects to calculate and print their areas."
      ],
      "metadata": {
        "id": "K4piWvF_fL2c"
      }
    },
    {
      "cell_type": "code",
      "source": [
        "from abc import ABC, abstractmethod\n",
        "import math\n",
        "\n",
        "# Abstract Base Class\n",
        "class Shape(ABC):\n",
        "    @abstractmethod\n",
        "    def area(self):\n",
        "        pass\n",
        "\n",
        "# Subclass for Circle\n",
        "class Circle(Shape):\n",
        "    def __init__(self, radius):\n",
        "        self.radius = radius\n",
        "\n",
        "    def area(self):\n",
        "        return math.pi * (self.radius ** 2)\n",
        "\n",
        "# Subclass for Rectangle\n",
        "class Rectangle(Shape):\n",
        "    def __init__(self, width, height):\n",
        "        self.width = width\n",
        "        self.height = height\n",
        "\n",
        "    def area(self):\n",
        "        return self.width * self.height\n",
        "\n",
        "# Function to calculate and print area\n",
        "def print_area(shape: Shape):\n",
        "    print(f\"The area of the shape is: {shape.area():.2f}\")\n",
        "\n",
        "# Example usage\n",
        "circle = Circle(5)\n",
        "rectangle = Rectangle(4, 6)\n",
        "\n",
        "print_area(circle)\n",
        "print_area(rectangle)\n"
      ],
      "metadata": {
        "colab": {
          "base_uri": "https://localhost:8080/"
        },
        "id": "gAlYGlGpf5q_",
        "outputId": "3d416b9a-7f9c-4ce0-e4e4-7a878fd710c4"
      },
      "execution_count": 6,
      "outputs": [
        {
          "output_type": "stream",
          "name": "stdout",
          "text": [
            "The area of the shape is: 78.54\n",
            "The area of the shape is: 24.00\n"
          ]
        }
      ]
    },
    {
      "cell_type": "markdown",
      "source": [
        "Q10.Implement encapsulation in a 'BankAccount class with private attributes for 'balance and account_number`. Include methods for deposit, withdrawal, and balance inquiry."
      ],
      "metadata": {
        "id": "tepHvwrwgwc5"
      }
    },
    {
      "cell_type": "code",
      "source": [
        "class BankAccount:\n",
        "    def __init__(self, account_number, initial_balance=0):\n",
        "        self.__account_number = account_number  # Private attribute\n",
        "        self.__balance = initial_balance          # Private attribute\n",
        "\n",
        "    def deposit(self, amount):\n",
        "        if amount > 0:\n",
        "            self.__balance += amount\n",
        "            print(f\"Deposited: ${amount:.2f}. New balance: ${self.__balance:.2f}.\")\n",
        "        else:\n",
        "            print(\"Deposit amount must be positive.\")\n",
        "\n",
        "    def withdraw(self, amount):\n",
        "        if amount > 0:\n",
        "            if amount <= self.__balance:\n",
        "                self.__balance -= amount\n",
        "                print(f\"Withdrew: ${amount:.2f}. New balance: ${self.__balance:.2f}.\")\n",
        "            else:\n",
        "                print(\"Insufficient funds for this withdrawal.\")\n",
        "        else:\n",
        "            print(\"Withdrawal amount must be positive.\")\n",
        "\n",
        "    def get_balance(self):\n",
        "        return self.__balance\n",
        "\n",
        "    def get_account_number(self):\n",
        "        return self.__account_number\n",
        "\n",
        "\n",
        "# Example usage\n",
        "account = BankAccount(\"123456789\", 1000)\n",
        "\n",
        "account.deposit(500)\n",
        "account.withdraw(200)\n",
        "print(f\"Current Balance: ${account.get_balance():.2f}\")\n",
        "print(f\"Account Number: {account.get_account_number()}\")\n",
        "\n",
        "account.withdraw(2000)\n"
      ],
      "metadata": {
        "colab": {
          "base_uri": "https://localhost:8080/"
        },
        "id": "0esYRqO8gyCT",
        "outputId": "d2c45d5b-9dd2-4a17-e157-35ade99d24b3"
      },
      "execution_count": 8,
      "outputs": [
        {
          "output_type": "stream",
          "name": "stdout",
          "text": [
            "Deposited: $500.00. New balance: $1500.00.\n",
            "Withdrew: $200.00. New balance: $1300.00.\n",
            "Current Balance: $1300.00\n",
            "Account Number: 123456789\n",
            "Insufficient funds for this withdrawal.\n"
          ]
        }
      ]
    },
    {
      "cell_type": "markdown",
      "source": [
        "Q11.Write a class that overrides the_str_and__add__ magic methods. What will these methods allow you to do?"
      ],
      "metadata": {
        "id": "458q10ELhoGN"
      }
    },
    {
      "cell_type": "code",
      "source": [
        "class Vector:\n",
        "    def __init__(self, x, y):\n",
        "        self.x = x\n",
        "        self.y = y\n",
        "\n",
        "    def __str__(self):\n",
        "        return f\"Vector({self.x}, {self.y})\"\n",
        "\n",
        "    def __add__(self, other):\n",
        "        if isinstance(other, Vector):\n",
        "            return Vector(self.x + other.x, self.y + other.y)\n",
        "        return NotImplemented\n",
        "\n",
        "# Example usage\n",
        "vector1 = Vector(2, 3)\n",
        "vector2 = Vector(4, 5)\n",
        "\n",
        "print(vector1)                # Output: Vector(2, 3)\n",
        "print(vector2)                # Output: Vector(4, 5)\n",
        "\n",
        "vector3 = vector1 + vector2   # Uses the __add__ method\n",
        "print(vector3)                # Output: Vector(6, 8)\n"
      ],
      "metadata": {
        "colab": {
          "base_uri": "https://localhost:8080/"
        },
        "id": "cpeNPnUJhqkS",
        "outputId": "367e3177-cc97-49b0-db1a-49be1788868b"
      },
      "execution_count": 9,
      "outputs": [
        {
          "output_type": "stream",
          "name": "stdout",
          "text": [
            "Vector(2, 3)\n",
            "Vector(4, 5)\n",
            "Vector(6, 8)\n"
          ]
        }
      ]
    },
    {
      "cell_type": "markdown",
      "source": [
        "Q12.Create a decorator that measures and prints the execution time of a function."
      ],
      "metadata": {
        "id": "VFPTGVajh1WC"
      }
    },
    {
      "cell_type": "code",
      "source": [
        "import time\n",
        "\n",
        "def timing_decorator(func):\n",
        "    def wrapper(*args, **kwargs):\n",
        "        start_time = time.time()  # Record the start time\n",
        "        result = func(*args, **kwargs)  # Call the original function\n",
        "        end_time = time.time()  # Record the end time\n",
        "        execution_time = end_time - start_time  # Calculate execution time\n",
        "        print(f\"Execution time of {func.__name__}: {execution_time:.6f} seconds\")\n",
        "        return result  # Return the result of the function\n",
        "    return wrapper\n",
        "\n",
        "# Example usage\n",
        "@timing_decorator\n",
        "def example_function(n):\n",
        "    total = 0\n",
        "    for i in range(n):\n",
        "        total += i\n",
        "    return total\n",
        "\n",
        "# Call the decorated function\n",
        "result = example_function(1000000)\n",
        "print(f\"Result: {result}\")\n"
      ],
      "metadata": {
        "colab": {
          "base_uri": "https://localhost:8080/"
        },
        "id": "L2-aD295iBN4",
        "outputId": "7054d926-8aec-42b3-fe6d-c7e4e22ee4e7"
      },
      "execution_count": 10,
      "outputs": [
        {
          "output_type": "stream",
          "name": "stdout",
          "text": [
            "Execution time of example_function: 0.084931 seconds\n",
            "Result: 499999500000\n"
          ]
        }
      ]
    },
    {
      "cell_type": "markdown",
      "source": [
        "Q13.Explain the concept of the Diamond Problem in multiple inheritance. How does Python resolve it?"
      ],
      "metadata": {
        "id": "Kmzy_DV0igbh"
      }
    },
    {
      "cell_type": "code",
      "source": [
        "class A:\n",
        "    def show(self):\n",
        "        return \"A\"\n",
        "\n",
        "class B(A):\n",
        "    def show(self):\n",
        "        return \"B\"\n",
        "\n",
        "class C(A):\n",
        "    def show(self):\n",
        "        return \"C\"\n",
        "\n",
        "class D(B, C):\n",
        "    pass\n",
        "\n",
        "d = D()\n",
        "print(d.show())\n"
      ],
      "metadata": {
        "colab": {
          "base_uri": "https://localhost:8080/"
        },
        "id": "ZCda3sZxiJou",
        "outputId": "48c96e09-0f51-406e-ebb4-b6a8025c86c7"
      },
      "execution_count": 12,
      "outputs": [
        {
          "output_type": "stream",
          "name": "stdout",
          "text": [
            "B\n"
          ]
        }
      ]
    },
    {
      "cell_type": "code",
      "source": [
        "print(D.mro())\n"
      ],
      "metadata": {
        "colab": {
          "base_uri": "https://localhost:8080/"
        },
        "id": "SrPnbWVgkBsB",
        "outputId": "f54ff7c7-63e1-4f75-b4ea-06e972ca0183"
      },
      "execution_count": 13,
      "outputs": [
        {
          "output_type": "stream",
          "name": "stdout",
          "text": [
            "[<class '__main__.D'>, <class '__main__.B'>, <class '__main__.C'>, <class '__main__.A'>, <class 'object'>]\n"
          ]
        }
      ]
    },
    {
      "cell_type": "markdown",
      "source": [
        "Q14.Write a class method that keeps track of the number of instances created from a class.\n"
      ],
      "metadata": {
        "id": "rihdJb2-lAMo"
      }
    },
    {
      "cell_type": "code",
      "source": [
        "class InstanceCounter:\n",
        "    instance_count = 0\n",
        "\n",
        "    def __init__(self):\n",
        "        InstanceCounter.instance_count += 1\n",
        "\n",
        "    @classmethod\n",
        "    def get_instance_count(cls):\n",
        "        return cls.instance_count\n",
        "# Example usage\n",
        "if __name__ == \"__main__\":\n",
        "    obj1 = InstanceCounter()\n",
        "    obj2 = InstanceCounter()\n",
        "    obj3 = InstanceCounter()\n",
        "\n",
        "    print(f\"Number of instances created: {InstanceCounter.get_instance_count()}\")\n"
      ],
      "metadata": {
        "colab": {
          "base_uri": "https://localhost:8080/"
        },
        "id": "LKStBbN5lHY-",
        "outputId": "e65c7554-65cc-435a-d005-a34c45cb1e69"
      },
      "execution_count": 15,
      "outputs": [
        {
          "output_type": "stream",
          "name": "stdout",
          "text": [
            "Number of instances created: 3\n"
          ]
        }
      ]
    },
    {
      "cell_type": "markdown",
      "source": [
        "Q15.Implement a static method in a class that checks if a given year is a leap year."
      ],
      "metadata": {
        "id": "Z4ityEv8mRdE"
      }
    },
    {
      "cell_type": "code",
      "source": [
        "class YearUtils:\n",
        "    @staticmethod\n",
        "    def is_leap_year(year):\n",
        "        \"\"\"Check if a given year is a leap year.\"\"\"\n",
        "        if (year % 4 == 0 and year % 100 != 0) or (year % 400 == 0):\n",
        "            return True\n",
        "        return False\n",
        "\n",
        "# Example usage\n",
        "if __name__ == \"__main__\":\n",
        "    year = 2024\n",
        "    if YearUtils.is_leap_year(year):\n",
        "        print(f\"{year} is a leap year.\")\n",
        "    else:\n",
        "        print(f\"{year} is not a leap year.\")\n",
        "\n",
        "    year = 1900\n",
        "    if YearUtils.is_leap_year(year):\n",
        "        print(f\"{year} is a leap year.\")\n",
        "    else:\n",
        "        print(f\"{year} is not a leap year.\")\n"
      ],
      "metadata": {
        "colab": {
          "base_uri": "https://localhost:8080/"
        },
        "id": "NHnHqVVNmSVe",
        "outputId": "38fe4961-8e6f-4f23-d4ad-e856a8d954fd"
      },
      "execution_count": 16,
      "outputs": [
        {
          "output_type": "stream",
          "name": "stdout",
          "text": [
            "2024 is a leap year.\n",
            "1900 is not a leap year.\n"
          ]
        }
      ]
    },
    {
      "cell_type": "code",
      "source": [],
      "metadata": {
        "id": "gSESoIIpme_c"
      },
      "execution_count": null,
      "outputs": []
    }
  ]
}