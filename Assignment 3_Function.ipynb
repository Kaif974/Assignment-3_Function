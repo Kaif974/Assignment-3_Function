{
 "cells": [
  {
   "cell_type": "markdown",
   "id": "8b2dca00-d1e7-45af-a090-5517763e9717",
   "metadata": {},
   "source": [
    "# Assignment_3_Function\n"
   ]
  },
  {
   "cell_type": "markdown",
   "id": "fa9646f5-0dd8-44b1-8e40-a13d1cc34e4b",
   "metadata": {},
   "source": [
    "# Q1. What is the difference between a function and a method in Python?"
   ]
  },
  {
   "cell_type": "code",
   "execution_count": 1,
   "id": "1e3e3f85-d928-4532-b515-c027004209b4",
   "metadata": {},
   "outputs": [],
   "source": [
    "#Exp.\n",
    "# Function\n",
    "def greet(name):\n",
    "    print(\"Hello, \" + name + \"!\")\n",
    "\n",
    "# Method (within a class)\n",
    "class Person:\n",
    "    def __init__(self, name):\n",
    "        self.name = name\n",
    "\n",
    "    def say_hello(self):\n",
    "        print(\"Hello, my name is \" + self.name)"
   ]
  },
  {
   "cell_type": "markdown",
   "id": "22e1d491-f21d-4b03-a3f6-9d6e922ee869",
   "metadata": {},
   "source": [
    "# Q2.. Explain the concept of function arguments and parameters in Python."
   ]
  },
  {
   "cell_type": "code",
   "execution_count": 2,
   "id": "e5fee343-878c-4451-a9a8-009506f4eb31",
   "metadata": {},
   "outputs": [
    {
     "name": "stdout",
     "output_type": "stream",
     "text": [
      "Hello, Alice!\n"
     ]
    }
   ],
   "source": [
    "def greet(name):\n",
    "    print(\"Hello, \" + name + \"!\")\n",
    "\n",
    "# Here, `name` is a parameter.\n",
    "greet(\"Alice\")"
   ]
  },
  {
   "cell_type": "markdown",
   "id": "07f93477-a378-4789-9c9b-93f38dea71c9",
   "metadata": {},
   "source": [
    "# Q3.What are the different ways to define and call a function in Python? \n"
   ]
  },
  {
   "cell_type": "code",
   "execution_count": 3,
   "id": "8631ee1c-fc8f-4ee8-952c-2bd10921f420",
   "metadata": {},
   "outputs": [
    {
     "name": "stdout",
     "output_type": "stream",
     "text": [
      "Hello, Alice!\n"
     ]
    }
   ],
   "source": [
    "#Exp Standard Function Definition and Call\n",
    "def greet(name):\n",
    "    \"\"\"Function that greets the user by name.\"\"\"\n",
    "    return f\"Hello, {name}!\"\n",
    "\n",
    "# Calling the function\n",
    "print(greet(\"Alice\")) \n",
    "\n"
   ]
  },
  {
   "cell_type": "code",
   "execution_count": 4,
   "id": "6bc83964-583b-4e88-9548-55c6aa033c90",
   "metadata": {},
   "outputs": [
    {
     "name": "stdout",
     "output_type": "stream",
     "text": [
      "Hello, World!\n",
      "Hello, Bob!\n"
     ]
    }
   ],
   "source": [
    "#Exp Function with Default Parameters\n",
    "def greet(name=\"World\"):\n",
    "    \"\"\"Function that greets the user with a default name.\"\"\"\n",
    "    return f\"Hello, {name}!\"\n",
    "\n",
    "# Calling the function with and without an argument\n",
    "print(greet())      \n",
    "print(greet(\"Bob\"))   \n"
   ]
  },
  {
   "cell_type": "code",
   "execution_count": 5,
   "id": "a34eff2e-9281-4657-a129-910996ab8475",
   "metadata": {},
   "outputs": [
    {
     "name": "stdout",
     "output_type": "stream",
     "text": [
      "Name: kaif\n",
      "Traits: ('kind', 'smart')\n",
      "age: 22\n",
      "city: india\n"
     ]
    }
   ],
   "source": [
    "#Exp Function with Variable-Length Arguments\n",
    "def describe_person(name, *traits, **info):\n",
    "    \"\"\"Function that describes a person with optional traits and additional information.\"\"\"\n",
    "    print(f\"Name: {name}\")\n",
    "    print(\"Traits:\", traits)\n",
    "    for key, value in info.items():\n",
    "        print(f\"{key}: {value}\")\n",
    "\n",
    "# Calling the function with various arguments\n",
    "describe_person(\"kaif\", \"kind\", \"smart\", age=22, city=\"india\")\n",
    "\n"
   ]
  },
  {
   "cell_type": "code",
   "execution_count": 6,
   "id": "f3d5a671-74bc-45ef-971b-6e60a4784545",
   "metadata": {},
   "outputs": [
    {
     "name": "stdout",
     "output_type": "stream",
     "text": [
      "8\n",
      "8\n"
     ]
    }
   ],
   "source": [
    "#Exp Lambda Functions \n",
    "# Define and call a lambda function directly\n",
    "print((lambda x, y: x + y)(5, 3))  \n",
    "\n",
    "# Assign lambda function to a variable and call it\n",
    "add = lambda x, y: x + y\n",
    "print(add(5, 3)) \n"
   ]
  },
  {
   "cell_type": "code",
   "execution_count": 7,
   "id": "796c2814-441e-404c-811b-c74cb1fa709b",
   "metadata": {},
   "outputs": [
    {
     "name": "stdout",
     "output_type": "stream",
     "text": [
      "7\n"
     ]
    }
   ],
   "source": [
    "#Exp Nested Functions\n",
    "def outer_function(x):\n",
    "    \"\"\"Outer function with an inner function.\"\"\"\n",
    "    def inner_function(y):\n",
    "        \"\"\"Inner function that doubles the input.\"\"\"\n",
    "        return y * 2\n",
    "    return inner_function(x) + 1\n",
    "\n",
    "# Calling the outer function\n",
    "print(outer_function(3))  \n"
   ]
  },
  {
   "cell_type": "code",
   "execution_count": 8,
   "id": "abf9d84a-a76e-46a0-a025-c0de9c77d03a",
   "metadata": {},
   "outputs": [
    {
     "name": "stdout",
     "output_type": "stream",
     "text": [
      "16\n"
     ]
    }
   ],
   "source": [
    "#Exp Functions as First-Class Objects\n",
    "def operate_on(x, func):\n",
    "    \"\"\"Function that applies a function to a value.\"\"\"\n",
    "    return func(x)\n",
    "\n",
    "def square(n):\n",
    "    \"\"\"Function that squares the input.\"\"\"\n",
    "    return n * n\n",
    "\n",
    "# Calling operate_on with the square function\n",
    "print(operate_on(4, square))  \n"
   ]
  },
  {
   "cell_type": "code",
   "execution_count": 9,
   "id": "902e94e7-48db-4783-8c83-a56ebc9ab1b8",
   "metadata": {},
   "outputs": [
    {
     "name": "stdout",
     "output_type": "stream",
     "text": [
      "8\n",
      "{'x': <class 'int'>, 'y': <class 'int'>, 'return': <class 'int'>}\n"
     ]
    }
   ],
   "source": [
    "#Exp Function Annotations\n",
    "def add(x: int, y: int) -> int:\n",
    "    \"\"\"Function that adds two integers.\"\"\"\n",
    "    return x + y\n",
    "\n",
    "# Calling the function\n",
    "print(add(5, 3))  # Output: 8\n",
    "\n",
    "# Accessing annotations\n",
    "print(add.__annotations__) \n"
   ]
  },
  {
   "cell_type": "markdown",
   "id": "53cc28f1-8c21-4941-a05a-cbedb2144c6a",
   "metadata": {},
   "source": [
    "# Q4.What is the purpose of the `return` statement in a Python function?\n",
    "\n"
   ]
  },
  {
   "cell_type": "code",
   "execution_count": 10,
   "id": "4bff9fa0-1dbd-48c2-a5e5-5ec31f582bf9",
   "metadata": {},
   "outputs": [
    {
     "name": "stdout",
     "output_type": "stream",
     "text": [
      "8\n"
     ]
    }
   ],
   "source": [
    "#Exp\n",
    "def add_numbers(x, y):\n",
    "    result = x + y\n",
    "    return result\n",
    "\n",
    "sum = add_numbers(3, 5)\n",
    "print(sum) "
   ]
  },
  {
   "cell_type": "markdown",
   "id": "bad20a31-9db9-4b19-8a01-8241ed11325e",
   "metadata": {},
   "source": [
    "# Q5. What are iterators in Python and how do they differ from iterables?\n",
    "\n"
   ]
  },
  {
   "cell_type": "code",
   "execution_count": 11,
   "id": "d5091ec1-a1bd-4057-b0b0-bc755d447dc6",
   "metadata": {},
   "outputs": [
    {
     "name": "stdout",
     "output_type": "stream",
     "text": [
      "1\n",
      "2\n",
      "3\n"
     ]
    }
   ],
   "source": [
    "#Examples of iterables:\n",
    "my_list = [1, 2, 3]\n",
    "for item in my_list:  # `my_list` is an iterable\n",
    "    print(item)\n"
   ]
  },
  {
   "cell_type": "code",
   "execution_count": 12,
   "id": "a71edb0c-ef9a-44fe-ad29-068a4e17ab88",
   "metadata": {},
   "outputs": [
    {
     "name": "stdout",
     "output_type": "stream",
     "text": [
      "1\n",
      "2\n",
      "3\n"
     ]
    }
   ],
   "source": [
    "#Example of an iterator:\n",
    "my_iter = iter([1, 2, 3])  # Creates an iterator from a list\n",
    "\n",
    "print(next(my_iter))  \n",
    "print(next(my_iter)) \n",
    "print(next(my_iter))  "
   ]
  },
  {
   "cell_type": "markdown",
   "id": "c0bfb593-9b36-4c72-95ac-4347696e853b",
   "metadata": {},
   "source": [
    "# Q6.Explain the concept of generators in Python and how they are defined."
   ]
  },
  {
   "cell_type": "code",
   "execution_count": 13,
   "id": "189e41b4-7c46-4c8e-af29-9364a3316d92",
   "metadata": {},
   "outputs": [
    {
     "name": "stdout",
     "output_type": "stream",
     "text": [
      "1\n",
      "2\n",
      "3\n",
      "4\n",
      "5\n"
     ]
    }
   ],
   "source": [
    "#example of a generator function:\n",
    "def count_up_to(n):\n",
    "    count = 1\n",
    "    while count <= n:\n",
    "        yield count  # Yields the current value of count\n",
    "        count += 1\n",
    "\n",
    "# Create a generator object\n",
    "counter = count_up_to(5)\n",
    "\n",
    "# Iterate through the values produced by the generator\n",
    "for number in counter:\n",
    "    print(number)\n"
   ]
  },
  {
   "cell_type": "code",
   "execution_count": 14,
   "id": "c0a7c474-8223-41e0-b7f5-eb8c0040fea6",
   "metadata": {},
   "outputs": [
    {
     "name": "stdout",
     "output_type": "stream",
     "text": [
      "0\n",
      "1\n",
      "4\n",
      "9\n",
      "16\n"
     ]
    }
   ],
   "source": [
    "#exp Generator Expressions:\n",
    "squares = (x * x for x in range(5))  # A generator expression\n",
    "\n",
    "# Iterate over the generator\n",
    "for square in squares:\n",
    "    print(square)\n"
   ]
  },
  {
   "cell_type": "markdown",
   "id": "80131de8-00fd-4687-a7b5-cc1f04db728e",
   "metadata": {},
   "source": [
    "# Q7.What are the advantages of using generators over regular functions?\n"
   ]
  },
  {
   "cell_type": "code",
   "execution_count": 15,
   "id": "4cb11bb7-86fd-43e9-8109-a7b24c37e990",
   "metadata": {},
   "outputs": [],
   "source": [
    "#Exp Memory Efficiency:\n",
    "def regular_function(n):\n",
    "    return [i for i in range(n)]  # Returns the entire list, stored in memory\n",
    "\n",
    "def generator_function(n):\n",
    "    for i in range(n):\n",
    "        yield i  # Yields values one at a time, no need to store the entire list\n"
   ]
  },
  {
   "cell_type": "code",
   "execution_count": 16,
   "id": "46ed7488-0389-44f0-b38a-7029bd827c55",
   "metadata": {},
   "outputs": [
    {
     "name": "stdout",
     "output_type": "stream",
     "text": [
      "1\n",
      "2\n"
     ]
    }
   ],
   "source": [
    "#Exp Lazy Evaluation:\n",
    "def lazy_generator():\n",
    "    yield 1\n",
    "    yield 2\n",
    "    yield 3\n",
    "\n",
    "gen = lazy_generator()\n",
    "print(next(gen))  \n",
    "print(next(gen)) \n",
    "\n"
   ]
  },
  {
   "cell_type": "code",
   "execution_count": 17,
   "id": "9b1c82f1-3fb9-4cf1-a0ae-a95409283739",
   "metadata": {},
   "outputs": [],
   "source": [
    "#Exp Infinite Sequences:\n",
    "def infinite_counter():\n",
    "    count = 0\n",
    "    while True:\n",
    "        yield count\n",
    "        count += 1\n"
   ]
  },
  {
   "cell_type": "code",
   "execution_count": 18,
   "id": "fc8da0c7-2552-4c90-95f9-f8054373fe85",
   "metadata": {},
   "outputs": [
    {
     "name": "stdout",
     "output_type": "stream",
     "text": [
      "0\n",
      "2\n",
      "8\n",
      "18\n",
      "32\n"
     ]
    }
   ],
   "source": [
    "#Exp5 Pipelining:\n",
    "def square_numbers(numbers):\n",
    "    for num in numbers:\n",
    "        yield num * num\n",
    "\n",
    "def double_numbers(numbers):\n",
    "    for num in numbers:\n",
    "        yield num * 2\n",
    "\n",
    "numbers = range(5)\n",
    "pipeline = double_numbers(square_numbers(numbers))  # Generator pipeline\n",
    "for value in pipeline:\n",
    "    print(value)\n"
   ]
  },
  {
   "cell_type": "markdown",
   "id": "9ff0306f-e24b-414e-b0ba-361e5778394d",
   "metadata": {},
   "source": [
    "# Q8.What is a lambda function in Python and when is it typically used?"
   ]
  },
  {
   "cell_type": "code",
   "execution_count": 19,
   "id": "879358d0-d3d0-4d5c-bbad-9b63bdeb9b4b",
   "metadata": {},
   "outputs": [
    {
     "name": "stdout",
     "output_type": "stream",
     "text": [
      "[1, 4, 9, 16]\n",
      "[2, 4]\n",
      "[(1, 'a'), (2, 'b'), (3, 'c')]\n"
     ]
    }
   ],
   "source": [
    "# Using a lambda function with map\n",
    "numbers = [1, 2, 3, 4]\n",
    "squared_numbers = list(map(lambda x: x**2, numbers))\n",
    "print(squared_numbers) \n",
    "\n",
    "# Using a lambda function with filter\n",
    "even_numbers = list(filter(lambda x: x % 2 == 0, numbers))\n",
    "print(even_numbers)  \n",
    "\n",
    "# Using a lambda function for sorting\n",
    "my_list = [(1, 'a'), (3, 'c'), (2, 'b')]\n",
    "sorted_list = sorted(my_list, key=lambda x: x[0])\n",
    "print(sorted_list) "
   ]
  },
  {
   "cell_type": "code",
   "execution_count": 20,
   "id": "a2d111f5-be3a-4ecd-954d-db0d930e6a8d",
   "metadata": {},
   "outputs": [
    {
     "name": "stdout",
     "output_type": "stream",
     "text": [
      "[1, 4, 9, 16, 25]\n"
     ]
    }
   ],
   "source": [
    "#Example with map()\n",
    "numbers = [1, 2, 3, 4, 5]\n",
    "squared = map(lambda x: x ** 2, numbers)\n",
    "print(list(squared)) \n"
   ]
  },
  {
   "cell_type": "code",
   "execution_count": 21,
   "id": "4cdbc445-f558-4b72-a21b-2526c66040c7",
   "metadata": {},
   "outputs": [
    {
     "name": "stdout",
     "output_type": "stream",
     "text": [
      "[2, 4]\n"
     ]
    }
   ],
   "source": [
    "#Example with filter()\n",
    "numbers = [1, 2, 3, 4, 5]\n",
    "even_numbers = filter(lambda x: x % 2 == 0, numbers)\n",
    "print(list(even_numbers))  "
   ]
  },
  {
   "cell_type": "code",
   "execution_count": 22,
   "id": "6294bc9e-3bde-4c67-a14a-9ef7e8eb93bd",
   "metadata": {},
   "outputs": [
    {
     "name": "stdout",
     "output_type": "stream",
     "text": [
      "15\n"
     ]
    }
   ],
   "source": [
    "#Example of reduce()\n",
    "from functools import reduce\n",
    "\n",
    "# Define a function to add two numbers\n",
    "def add(x, y):\n",
    "    return x + y\n",
    "\n",
    "# List of numbers\n",
    "numbers = [1, 2, 3, 4, 5]\n",
    "\n",
    "# Use reduce() to sum all numbers in the list\n",
    "result = reduce(add, numbers)\n",
    "print(result)  \n"
   ]
  },
  {
   "cell_type": "markdown",
   "id": "6fac87a6-df78-4938-a9c3-2c5cb3310263",
   "metadata": {},
   "source": [
    "# Q9. Explain the purpose and usage of the map( ) function in Python.\n"
   ]
  },
  {
   "cell_type": "code",
   "execution_count": 23,
   "id": "2c23e7fa-f5c6-4c47-b441-676fc1fcf4db",
   "metadata": {},
   "outputs": [
    {
     "name": "stdout",
     "output_type": "stream",
     "text": [
      "[1, 4, 9, 16, 25]\n"
     ]
    }
   ],
   "source": [
    "# Define a function to square a number\n",
    "def square(x):\n",
    "    return x * x\n",
    "\n",
    "# List of numbers\n",
    "numbers = [1, 2, 3, 4, 5]\n",
    "\n",
    "# Use map() to apply the square function to each element\n",
    "squared_numbers = map(square, numbers)\n",
    "\n",
    "# Convert the map object to a list to see the results\n",
    "print(list(squared_numbers)) \n"
   ]
  },
  {
   "cell_type": "code",
   "execution_count": 24,
   "id": "aa98cc4d-887d-410b-98cc-ece866cc30f4",
   "metadata": {},
   "outputs": [
    {
     "name": "stdout",
     "output_type": "stream",
     "text": [
      "[1, 4, 9, 16, 25]\n"
     ]
    }
   ],
   "source": [
    "#using Lamda function\n",
    "# List of numbers\n",
    "numbers = [1, 2, 3, 4, 5]\n",
    "\n",
    "# Use map() with a lambda function to square each number\n",
    "squared_numbers = map(lambda x: x * x, numbers)\n",
    "\n",
    "# Convert the map object to a list\n",
    "print(list(squared_numbers))  \n"
   ]
  },
  {
   "cell_type": "code",
   "execution_count": 25,
   "id": "0397caac-bfb4-44f7-9cfa-1d5449ab6afb",
   "metadata": {},
   "outputs": [
    {
     "name": "stdout",
     "output_type": "stream",
     "text": [
      "[11, 22, 33, 44]\n"
     ]
    }
   ],
   "source": [
    "#Multiple Iterables\n",
    "# Define a function to add two numbers\n",
    "def add(x, y):\n",
    "    return x + y\n",
    "\n",
    "# Two lists of numbers\n",
    "list1 = [1, 2, 3, 4]\n",
    "list2 = [10, 20, 30, 40]\n",
    "\n",
    "# Use map() to add corresponding elements of the two lists\n",
    "sums = map(add, list1, list2)\n",
    "\n",
    "# Convert the map object to a list\n",
    "print(list(sums)) \n"
   ]
  },
  {
   "cell_type": "markdown",
   "id": "52957348-1b30-414f-8b71-c49d7bd8bbe8",
   "metadata": {},
   "source": [
    "# Q10.What is the difference between map(), reduce(), and filter() functions in Python?"
   ]
  },
  {
   "cell_type": "code",
   "execution_count": 26,
   "id": "738034ef-15ac-43c3-a325-6615a9d68f1e",
   "metadata": {},
   "outputs": [
    {
     "name": "stdout",
     "output_type": "stream",
     "text": [
      "[1, 4, 9, 16]\n"
     ]
    }
   ],
   "source": [
    "#Exp map()\n",
    "numbers = [1, 2, 3, 4]\n",
    "squared = map(lambda x: x ** 2, numbers)\n",
    "print(list(squared)) \n"
   ]
  },
  {
   "cell_type": "code",
   "execution_count": 27,
   "id": "769ce47e-5e6c-4a9c-91ca-b0853fad5d2c",
   "metadata": {},
   "outputs": [
    {
     "name": "stdout",
     "output_type": "stream",
     "text": [
      "[2, 4]\n"
     ]
    }
   ],
   "source": [
    "#Exp filter()\n",
    "numbers = [1, 2, 3, 4, 5]\n",
    "evens = filter(lambda x: x % 2 == 0, numbers)\n",
    "print(list(evens)) \n"
   ]
  },
  {
   "cell_type": "code",
   "execution_count": 28,
   "id": "003e2ee1-d076-4092-9c76-ab720b524be5",
   "metadata": {},
   "outputs": [
    {
     "name": "stdout",
     "output_type": "stream",
     "text": [
      "10\n"
     ]
    }
   ],
   "source": [
    "#exp reduce()\n",
    "from functools import reduce\n",
    "\n",
    "numbers = [1, 2, 3, 4]\n",
    "sum = reduce(lambda x, y: x + y, numbers)\n",
    "print(sum)  \n"
   ]
  }
 ],
 "metadata": {
  "kernelspec": {
   "display_name": "Python 3 (ipykernel)",
   "language": "python",
   "name": "python3"
  },
  "language_info": {
   "codemirror_mode": {
    "name": "ipython",
    "version": 3
   },
   "file_extension": ".py",
   "mimetype": "text/x-python",
   "name": "python",
   "nbconvert_exporter": "python",
   "pygments_lexer": "ipython3",
   "version": "3.10.8"
  }
 },
 "nbformat": 4,
 "nbformat_minor": 5
}
