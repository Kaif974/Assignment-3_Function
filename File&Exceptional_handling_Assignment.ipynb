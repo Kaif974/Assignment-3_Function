{
  "nbformat": 4,
  "nbformat_minor": 0,
  "metadata": {
    "colab": {
      "provenance": [],
      "authorship_tag": "ABX9TyOIcunGmR2gPMV3KVPVXAWp",
      "include_colab_link": true
    },
    "kernelspec": {
      "name": "python3",
      "display_name": "Python 3"
    },
    "language_info": {
      "name": "python"
    }
  },
  "cells": [
    {
      "cell_type": "markdown",
      "metadata": {
        "id": "view-in-github",
        "colab_type": "text"
      },
      "source": [
        "<a href=\"https://colab.research.google.com/github/Kaif974/Assignment-3_Function/blob/main/File%26Exceptional_handling_Assignment.ipynb\" target=\"_parent\"><img src=\"https://colab.research.google.com/assets/colab-badge.svg\" alt=\"Open In Colab\"/></a>"
      ]
    },
    {
      "cell_type": "markdown",
      "source": [
        "Q4.Write a Python program using multithreading where one thread adds numbers to a list, and another thread removes numbers from the list. Implement a mechanism to avoid race conditions using threading.Lock"
      ],
      "metadata": {
        "id": "5ZxK1AYCpsel"
      }
    },
    {
      "cell_type": "code",
      "source": [
        "import threading\n",
        "import time\n",
        "import random\n",
        "\n",
        "# Shared resource\n",
        "number_list = []\n",
        "lock = threading.Lock()\n",
        "\n",
        "# Function to add numbers to the list\n",
        "def add_numbers():\n",
        "    for i in range(10):\n",
        "        with lock:\n",
        "            number = random.randint(1, 100)\n",
        "            number_list.append(number)\n",
        "            print(f\"Added: {number}\")\n",
        "        time.sleep(random.uniform(0.1, 0.5))  # Sleep to simulate work\n",
        "\n",
        "# Function to remove numbers from the list\n",
        "def remove_numbers():\n",
        "    for i in range(10):\n",
        "        with lock:\n",
        "            if number_list:\n",
        "                removed_number = number_list.pop(0)\n",
        "                print(f\"Removed: {removed_number}\")\n",
        "            else:\n",
        "                print(\"List is empty, nothing to remove.\")\n",
        "        time.sleep(random.uniform(0.1, 0.5))  # Sleep to simulate work\n",
        "\n",
        "# Create threads\n",
        "thread_add = threading.Thread(target=add_numbers)\n",
        "thread_remove = threading.Thread(target=remove_numbers)\n",
        "\n",
        "# Start threads\n",
        "thread_add.start()\n",
        "thread_remove.start()\n",
        "\n",
        "# Wait for both threads to complete\n",
        "thread_add.join()\n",
        "thread_remove.join()\n",
        "\n",
        "# Final state of the list\n",
        "with lock:\n",
        "    print(f\"Final list: {number_list}\")\n"
      ],
      "metadata": {
        "colab": {
          "base_uri": "https://localhost:8080/"
        },
        "id": "0S-TPiXHpyAc",
        "outputId": "cea4405f-4ae0-4465-fe39-661e573cf20e"
      },
      "execution_count": 1,
      "outputs": [
        {
          "output_type": "stream",
          "name": "stdout",
          "text": [
            "Added: 40\n",
            "Removed: 40\n",
            "List is empty, nothing to remove.\n",
            "Added: 97\n",
            "Removed: 97\n",
            "Added: 29\n",
            "Removed: 29\n",
            "List is empty, nothing to remove.\n",
            "Added: 6\n",
            "Removed: 6\n",
            "Added: 50\n",
            "Added: 91\n",
            "Added: 11\n",
            "Removed: 50\n",
            "Added: 63\n",
            "Added: 16\n",
            "Removed: 91\n",
            "Removed: 11\n",
            "Added: 62\n",
            "Removed: 63\n",
            "Final list: [16, 62]\n"
          ]
        }
      ]
    },
    {
      "cell_type": "markdown",
      "source": [
        "Q7.Create a program that uses a thread pool to calculate the factorial of numbers from 1 to 10 concurrently. Use concurrent.futures.ThreadPoolExecutor to manage the threads."
      ],
      "metadata": {
        "id": "YhzzHI6ArwJ2"
      }
    },
    {
      "cell_type": "code",
      "source": [
        "import concurrent.futures\n",
        "import math\n",
        "\n",
        "# Function to calculate the factorial\n",
        "def calculate_factorial(n):\n",
        "    return math.factorial(n)\n",
        "\n",
        "# Main function to execute the thread pool\n",
        "def main():\n",
        "    numbers = range(1, 11)  # Numbers from 1 to 10\n",
        "\n",
        "    # Using ThreadPoolExecutor to manage threads\n",
        "    with concurrent.futures.ThreadPoolExecutor() as executor:\n",
        "        # Submit tasks to the executor\n",
        "        futures = {executor.submit(calculate_factorial, num): num for num in numbers}\n",
        "\n",
        "        # Collect and print results\n",
        "        for future in concurrent.futures.as_completed(futures):\n",
        "            num = futures[future]\n",
        "            try:\n",
        "                result = future.result()\n",
        "                print(f\"Factorial of {num} is {result}\")\n",
        "            except Exception as e:\n",
        "                print(f\"Error calculating factorial for {num}: {e}\")\n",
        "\n",
        "if __name__ == \"__main__\":\n",
        "    main()\n"
      ],
      "metadata": {
        "colab": {
          "base_uri": "https://localhost:8080/"
        },
        "id": "hILDM_L2rzDT",
        "outputId": "3d0e8ea6-af8e-47e6-d8cc-1deb757db77c"
      },
      "execution_count": 11,
      "outputs": [
        {
          "output_type": "stream",
          "name": "stdout",
          "text": [
            "Factorial of 10 is 3628800\n",
            "Factorial of 5 is 120\n",
            "Factorial of 9 is 362880\n",
            "Factorial of 8 is 40320\n",
            "Factorial of 4 is 24\n",
            "Factorial of 2 is 2\n",
            "Factorial of 6 is 720\n",
            "Factorial of 1 is 1\n",
            "Factorial of 7 is 5040\n",
            "Factorial of 3 is 6\n"
          ]
        }
      ]
    },
    {
      "cell_type": "markdown",
      "source": [
        "Q8.Create a Python program that uses multiprocessing.Pool to compute the square of numbers from 1 to 10 in parallel. Measure the time taken to perform this computation using a pool of different sizes (e.g., 2, 4, 8 processes"
      ],
      "metadata": {
        "id": "tIql7yLEsASw"
      }
    },
    {
      "cell_type": "code",
      "source": [
        "import multiprocessing\n",
        "import time\n",
        "\n",
        "# Function to compute the square of a number\n",
        "def square(n):\n",
        "    return n * n\n",
        "# Main function to perform calculations with multiprocessing\n",
        "def main():\n",
        "    numbers = list(range(1, 11))  # Numbers from 1 to 10\n",
        "    pool_sizes = [2, 4, 8]  # Different pool sizes to test\n",
        "\n",
        "    for pool_size in pool_sizes:\n",
        "        # Measure the time taken for computation\n",
        "        start_time = time.time()\n",
        "\n",
        "        with multiprocessing.Pool(processes=pool_size) as pool:\n",
        "            results = pool.map(square, numbers)\n",
        "\n",
        "        end_time = time.time()\n",
        "        elapsed_time = end_time - start_time\n",
        "\n",
        "        # Print results and time taken\n",
        "        print(f\"Pool size: {pool_size}, Results: {results}, Time taken: {elapsed_time:.4f} seconds\")\n",
        "\n",
        "if __name__ == \"__main__\":\n",
        "    main()\n"
      ],
      "metadata": {
        "colab": {
          "base_uri": "https://localhost:8080/"
        },
        "id": "vxWwTQURsBem",
        "outputId": "366af6db-895e-4d75-ea22-7ee8883e50a2"
      },
      "execution_count": 12,
      "outputs": [
        {
          "output_type": "stream",
          "name": "stdout",
          "text": [
            "Pool size: 2, Results: [1, 4, 9, 16, 25, 36, 49, 64, 81, 100], Time taken: 0.0441 seconds\n",
            "Pool size: 4, Results: [1, 4, 9, 16, 25, 36, 49, 64, 81, 100], Time taken: 0.0657 seconds\n",
            "Pool size: 8, Results: [1, 4, 9, 16, 25, 36, 49, 64, 81, 100], Time taken: 0.1440 seconds\n"
          ]
        }
      ]
    }
  ]
}